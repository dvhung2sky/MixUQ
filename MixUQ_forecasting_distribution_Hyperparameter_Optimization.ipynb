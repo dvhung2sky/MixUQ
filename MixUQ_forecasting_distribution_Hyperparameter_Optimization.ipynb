{
 "cells": [
  {
   "cell_type": "code",
   "execution_count": null,
   "metadata": {
    "colab": {
     "base_uri": "https://localhost:8080/"
    },
    "id": "-xfhg71QWnf5",
    "outputId": "b97aa49f-fe9c-403c-e8e5-fc98b0afc2d4"
   },
   "outputs": [
    {
     "name": "stdout",
     "output_type": "stream",
     "text": [
      "Mounted at /content/drive\n",
      "/content/drive/MyDrive/ex_comparison_forecasting\n"
     ]
    }
   ],
   "source": [
    "from google.colab import drive\n",
    "drive.mount('/content/drive')\n",
    "%cd drive/MyDrive/ex_comparison_forecasting"
   ]
  },
  {
   "cell_type": "code",
   "execution_count": null,
   "metadata": {
    "id": "PY-yafD5b3ab"
   },
   "outputs": [],
   "source": [
    "import warnings\n",
    "warnings.filterwarnings(\"ignore\")"
   ]
  },
  {
   "cell_type": "code",
   "execution_count": null,
   "metadata": {
    "id": "muAZUrA2oD_5"
   },
   "outputs": [],
   "source": [
    "import os\n",
    "import gc\n",
    "import numpy as np\n",
    "import pandas as pd\n",
    "import matplotlib.pyplot as plt\n",
    "%matplotlib inline\n",
    "from scipy.stats import norm\n",
    "import math\n",
    "import sklearn.preprocessing\n",
    "import tensorflow as tf\n",
    "from tensorflow import keras\n",
    "from tensorflow.keras import layers\n",
    "from tensorflow.keras.layers import *\n",
    "import pickle\n",
    "from scipy import interpolate\n",
    "import random\n",
    "import time\n",
    "from lightgbm import LGBMRegressor\n",
    "# import optuna\n",
    "from sklearn.metrics import mean_absolute_error\n",
    "from sklearn.multioutput import MultiOutputRegressor\n",
    "from scipy.stats import linregress\n",
    "\n",
    "import argparse\n",
    "import torch\n",
    "import torch.nn as nn\n",
    "import torch\n",
    "from torch.utils.data import Dataset, DataLoader\n",
    "from sklearn.preprocessing import StandardScaler\n",
    "import torch.nn.functional as F\n",
    "import pandas as pd\n",
    "from sklearn.metrics import mean_absolute_error as MAE\n",
    "from sklearn.metrics import mean_absolute_percentage_error as MAPE\n",
    "from sklearn.metrics import root_mean_squared_error as RMSE\n",
    "from sklearn.metrics import r2_score as R2\n"
   ]
  },
  {
   "cell_type": "code",
   "execution_count": null,
   "metadata": {
    "id": "rXbf923DpiRB"
   },
   "outputs": [],
   "source": [
    "with open(f'list_EQ_id.p', 'rb') as f:\n",
    "    list_EQid = pickle.load(f)\n"
   ]
  },
  {
   "cell_type": "code",
   "execution_count": null,
   "metadata": {
    "id": "SrT7QT27piT5"
   },
   "outputs": [],
   "source": [
    "def getPositionEncoding(seq_len, d, n=10000):\n",
    "    P = np.zeros((seq_len, d))\n",
    "    for k in range(seq_len):\n",
    "        for i in np.arange(int(d/2)):\n",
    "            denominator = np.power(n, 2*i/d)\n",
    "            P[k, 2*i] = np.sin(k/denominator)\n",
    "            P[k, 2*i+1] = np.cos(k/denominator)\n",
    "    return P\n"
   ]
  },
  {
   "cell_type": "code",
   "execution_count": null,
   "metadata": {
    "id": "5vBj_E7KpiZQ"
   },
   "outputs": [],
   "source": [
    "def prepare_data_batch(x, N1, N2, list_output_time, j = 2):\n",
    "  N0 = np.shape(x)[1]\n",
    "  xxx = np.stack([x[:,i:N0 - N1+i+1:j, :] for i in range(N1)], axis=2)\n",
    "  y = xxx[:,:,-N2:,-len(list_output_time):]\n",
    "\n",
    "  return np.array(xxx), np.array(y)\n"
   ]
  },
  {
   "cell_type": "code",
   "execution_count": null,
   "metadata": {
    "id": "XtJLVfMhppNq"
   },
   "outputs": [],
   "source": [
    "def data_provider2(data_time, data_static, data_y, batch_size=128):\n",
    "    data_set = h_Dataset(data_time, data_static, data_y)\n",
    "    data_loader = DataLoader(data_set, batch_size=batch_size, shuffle=True, drop_last=True)\n",
    "    return data_set, data_loader\n"
   ]
  },
  {
   "cell_type": "code",
   "execution_count": null,
   "metadata": {
    "id": "aDcAgMYWppQ8"
   },
   "outputs": [],
   "source": [
    "class h_Dataset(Dataset):\n",
    "    def __init__(self, data_time, data_static, data_y):\n",
    "        self.data_time = data_time\n",
    "        self.data_static = data_static\n",
    "        self.data_y = data_y\n",
    "\n",
    "    def __getitem__(self, index):\n",
    "        seq_time = self.data_time[index]\n",
    "        seq_static = self.data_static[index]\n",
    "        seq_y = self.data_y[index]\n",
    "        return seq_time, seq_static, seq_y\n",
    "\n",
    "    def __len__(self):\n",
    "        return len(self.data_y)\n",
    "\n"
   ]
  },
  {
   "cell_type": "code",
   "execution_count": null,
   "metadata": {
    "id": "v2D98tzHppTZ"
   },
   "outputs": [],
   "source": [
    "class TokenEmbedding(nn.Module):\n",
    "    def __init__(self, c_in, d_model):\n",
    "        super(TokenEmbedding, self).__init__()\n",
    "        self.tokenConv = nn.Conv1d(in_channels=c_in, out_channels=d_model, kernel_size=3, padding=1, padding_mode='circular', bias=False)\n",
    "\n",
    "    def forward(self, x):\n",
    "        x = self.tokenConv(x.permute(0, 2, 1)).transpose(1, 2)\n",
    "        return x\n",
    "\n",
    "class DataEmbedding(nn.Module):\n",
    "    def __init__(self, c_in, d_model, dropout=0.1):\n",
    "        super(DataEmbedding, self).__init__()\n",
    "        self.value_embedding = TokenEmbedding(c_in=c_in, d_model=d_model)\n",
    "        self.position_embedding = PositionalEmbedding(d_model=d_model)\n",
    "        self.dropout = nn.Dropout(p=dropout)\n",
    "\n",
    "    def forward(self, x):\n",
    "          x = self.value_embedding(x) + self.position_embedding(x)\n",
    "          return self.dropout(x)\n",
    "\n",
    "class PositionalEmbedding(nn.Module):\n",
    "    def __init__(self, d_model, max_len=5000):\n",
    "        super(PositionalEmbedding, self).__init__()\n",
    "\n",
    "        pe = torch.zeros(max_len, d_model).float()\n",
    "        pe.require_grad = False\n",
    "        position = torch.arange(0, max_len).float().unsqueeze(1)\n",
    "        div_term = (torch.arange(0, d_model, 2).float() * -(np.log(10000.0) / d_model)).exp()\n",
    "\n",
    "        pe[:, 0::2] = torch.sin(position * div_term)\n",
    "        pe[:, 1::2] = torch.cos(position * div_term)\n",
    "\n",
    "        pe = pe.unsqueeze(0)\n",
    "        self.register_buffer('pe', pe)\n",
    "\n",
    "    def forward(self, x):\n",
    "        return self.pe[:, :x.size(1)]\n"
   ]
  },
  {
   "cell_type": "code",
   "execution_count": null,
   "metadata": {
    "id": "pHCj3O0xppVy"
   },
   "outputs": [],
   "source": [
    "class Data_aggregation(nn.Module):\n",
    "    def __init__(self, L_all, N_static, dropout=0.1):\n",
    "        super(Data_aggregation, self).__init__()\n",
    "        self.projection = nn.Sequential(nn.Linear(N_static, L_all), nn.ReLU(), nn.Linear(L_all, L_all))\n",
    "        self.dropout = nn.Dropout(p=dropout)\n",
    "\n",
    "    def forward(self, x_time, x_static):\n",
    "        x = self.projection(x_static)\n",
    "        x = self.dropout(x)\n",
    "        x = x.permute(0, 2, 1)\n",
    "        x = torch.cat([x_time, x], dim=2)\n",
    "\n",
    "        return x\n",
    "\n"
   ]
  },
  {
   "cell_type": "code",
   "execution_count": null,
   "metadata": {
    "id": "LVweuHUap3x9"
   },
   "outputs": [],
   "source": [
    "def gen_data_AI_batch_2_model(df_new, list_idx, L_all, L_out, L_ground, N_input, N_output, N_static, sliding_step, list_time_series, list_output_time, list_static, real_scaler, static_scaler):\n",
    "  L_in = L_all - L_out\n",
    "  signal = [np.stack(list(df_new[k][list_idx])) for k in list_time_series ]\n",
    "  signal = np.stack(signal).transpose(1,2,0)\n",
    "  signal = np.pad(signal,((0,0),(L_all,0),(0,0)),constant_values=0.0)\n",
    "  signal = signal.reshape(-1, N_input + N_output)\n",
    "  scaled_signal = real_scaler.transform(signal)\n",
    "  scaled_signal = scaled_signal.reshape(-1, L_ground+L_all, N_input + N_output)\n",
    "  X_times_series, Y_label = prepare_data_batch(scaled_signal, L_all, L_out, list_output_time, j = sliding_step)\n",
    "  X_times_series[:,:,L_in:,N_input:N_input+N_output] = 0.0\n",
    "\n",
    "  static = np.stack(list(df_new[k][list_idx] for k in list_static)).T\n",
    "  scaled_static = static_scaler.transform(static)\n",
    "  X_static = scaled_static.reshape(-1,1,1,N_static)\n",
    "  X_static = np.tile(X_static, [1, X_times_series.shape[1], 1, 1])\n",
    "  X_times_series = X_times_series.reshape(-1, L_all, N_input+N_output)\n",
    "  X_static = X_static.reshape(-1, 1, N_static)\n",
    "  Y_label =  Y_label.reshape(-1, L_out, N_output)\n",
    "\n",
    "  return X_times_series, X_static, Y_label\n"
   ]
  },
  {
   "cell_type": "code",
   "execution_count": null,
   "metadata": {
    "id": "hr5y1saip31Y"
   },
   "outputs": [],
   "source": [
    "class ResBlock(nn.Module):\n",
    "    def __init__(self, configs, L_all, L_out, N_input, N_output):\n",
    "        super(ResBlock, self).__init__()\n",
    "\n",
    "        self.temporal = nn.Sequential(\n",
    "            nn.Linear(L_all, configs.d_model),\n",
    "            nn.ReLU(),\n",
    "            nn.Linear(configs.d_model, L_all),\n",
    "            nn.Dropout(configs.dropout)\n",
    "        )\n",
    "\n",
    "        self.channel = nn.Sequential(\n",
    "            nn.Linear(N_input+N_output+1, configs.d_model),\n",
    "            nn.ReLU(),\n",
    "            nn.Linear(configs.d_model, N_input+N_output+1),\n",
    "            nn.Dropout(configs.dropout)\n",
    "        )\n",
    "\n",
    "    def forward(self, x):\n",
    "        # x: [B, L, D]\n",
    "        x = x + self.temporal(x.transpose(1, 2)).transpose(1, 2)\n",
    "        x = x + self.channel(x)\n",
    "\n",
    "        return x\n",
    "\n",
    "\n",
    "class TSMixer_dis(nn.Module):\n",
    "    def __init__(self, configs, L_all, L_out, N_input, N_output):\n",
    "        super(TSMixer_dis, self).__init__()\n",
    "        self.layer = configs.e_layers\n",
    "        self.model = nn.ModuleList([ResBlock(configs, L_all, L_out, N_input, N_output) for _ in range(configs.e_layers)])\n",
    "        self.projection = nn.Sequential(nn.Linear(L_all, L_out), nn.ReLU())\n",
    "        self.out_layer = nn.ModuleList([nn.Linear(N_input+N_output+1, N_output, bias=False) for i in range(7)])\n",
    "\n",
    "    def forward(self, x_enc):\n",
    "        x = x_enc\n",
    "        for i in range(self.layer):\n",
    "            x = self.model[i](x)\n",
    "\n",
    "        x = self.projection(x.permute(0, 2, 1)).permute(0, 2, 1)\n",
    "        x_out = torch.stack([self.out_layer[i](x) for i in range(7)], dim=-1)\n",
    "\n",
    "        return x_out\n",
    "\n",
    "class model_parameters:\n",
    "  def __init__(self):\n",
    "    self.d_model = 128\n",
    "    self.e_layers = 2\n",
    "    self.dropout = 0.1\n",
    "\n",
    "# [0.02, 0.1, 0.25, 0.5, 0.75, 0.9, 0.98],\n",
    "class MAE_2():\n",
    "    def loss(y_pred, target):\n",
    "        device = torch.device(\"cuda\" if torch.cuda.is_available() else \"cpu\")\n",
    "        L = torch.zeros(1).to(device)\n",
    "        for i, q in enumerate([0.02, 0.1, 0.25, 0.5, 0.75, 0.9, 0.98]):\n",
    "          errors = y_pred[:,:,:,i] - target\n",
    "          L += torch.mean(torch.max((q - 1) * errors, q * errors))\n",
    "\n",
    "        return L\n"
   ]
  },
  {
   "cell_type": "code",
   "execution_count": null,
   "metadata": {
    "id": "Grvcw3c8pib6"
   },
   "outputs": [],
   "source": [
    "def one_function_optim(d_model, e_layers, L_in, L_out, dropout):\n",
    "\n",
    "    L_all = L_in + L_out\n",
    "    sliding_step = L_out\n",
    "\n",
    "    with open(f'EQall.p','rb') as f:\n",
    "      EQall = pickle.load(f)\n",
    "\n",
    "    print(ex_name)\n",
    "\n",
    "    with open(f'new_p_data_allEQ_{ex_name}.p', 'rb') as f:\n",
    "      df_new = pickle.load(f)\n",
    "\n",
    "    for i in range(len(df_new)):\n",
    "      L = len(df_new['disp_ground'][i])\n",
    "      if L >3000:\n",
    "        df_new['disp_ground'][i] = df_new['disp_ground'][i][:3000]\n",
    "      else:\n",
    "        df_new['disp_ground'][i] = list(df_new['disp_ground'][i]) + [0]*(3000-L)\n",
    "\n",
    "    list_output_time = []\n",
    "    list_static = []\n",
    "\n",
    "    for k in list(df_new):\n",
    "      if (str(k)[:4] == 'disp') & (str(k)[-1] != 'd'):\n",
    "        list_output_time.append(k)\n",
    "\n",
    "      if str(k)[:4] != 'disp':\n",
    "        list_static.append(k)\n",
    "\n",
    "    df_new['EQid'] = list_EQid\n",
    "    list_len = np.array([len(df_new['disp_2'][ip]) for ip in range(len(df_new))])\n",
    "    list_idx = np.where(list_len!=3000)[0]\n",
    "    df_new = df_new.drop(index=list_idx)\n",
    "    df_new = df_new.reset_index()\n",
    "\n",
    "\n",
    "    L_signal_input = len(df_new['disp_ground'][0])\n",
    "    L_ground = L_signal_input\n",
    "\n",
    "    Ndim_encoding = 2\n",
    "    P_encoding = getPositionEncoding(seq_len=L_signal_input, d=Ndim_encoding, n=10000)\n",
    "    for d in range(Ndim_encoding):\n",
    "      df_new[f'encode_{d}'] = [P_encoding[:,d]]*len(df_new)\n",
    "\n",
    "    list_input_time = ['disp_ground']+[f'encode_{d}' for d in range(Ndim_encoding)]\n",
    "    list_time_series = list_input_time + list_output_time\n",
    "    L_in = L_all-L_out\n",
    "    N_input= len(list_input_time)\n",
    "    N_output= len(list_output_time)\n",
    "    N_static = len(list_static)\n",
    "    N_all = N_input+N_output+N_static\n",
    "    N_time_series = len(list_input_time)+len(list_output_time)+1\n",
    "\n",
    "    static_scaler = sklearn.preprocessing.StandardScaler().fit(df_new[list_static].values)\n",
    "    target = np.array([df_new[i][0] for i in list_output_time]).T\n",
    "    target_scaler = sklearn.preprocessing.StandardScaler().fit(target)\n",
    "    real = np.array([df_new[i][0] for i in list_time_series]).T\n",
    "    real_scaler = sklearn.preprocessing.StandardScaler().fit(real)\n",
    "\n",
    "\n",
    "    train_time, train_static, train_label = gen_data_AI_batch_2_model(df_new, idx_train, L_all, L_out, L_ground, N_input, N_output, N_static, sliding_step, list_time_series, list_output_time, list_static, real_scaler, static_scaler)\n",
    "    val_time, val_static, val_label = gen_data_AI_batch_2_model(df_new, idx_valid, L_all, L_out, L_ground, N_input, N_output, N_static, sliding_step, list_time_series, list_output_time, list_static, real_scaler, static_scaler)\n",
    "    _, train_loader = data_provider2(train_time, train_static, train_label, batch_size=64)\n",
    "    _, valid_loader = data_provider2(val_time, val_static, val_label, batch_size=64)\n",
    "\n",
    "\n",
    "    args = model_parameters()\n",
    "    args.d_model = d_model\n",
    "    args.e_layers = e_layers\n",
    "    args.dropout = dropout\n",
    "\n",
    "    model_tor = TSMixer_dis(args, L_all, L_out, N_input, N_output)\n",
    "\n",
    "    N_epoch = 250\n",
    "    device = torch.device(\"cuda\" if torch.cuda.is_available() else \"cpu\")\n",
    "    aggregation = Data_aggregation(L_all, N_static, dropout)\n",
    "    aggregation = aggregation.float().to(device)\n",
    "    model_tor = model_tor.float().to(device)\n",
    "    model_optim = torch.optim.Adam(list(model_tor.parameters())+list(aggregation.parameters()), lr=0.001)\n",
    "    criterion = MAE_2\n",
    "\n",
    "    for epoch in range(N_epoch):\n",
    "        train_loss = []\n",
    "        for batch_time, batch_static, batch_y in train_loader:\n",
    "            model_optim.zero_grad()\n",
    "            batch_time, batch_static, batch_y = batch_time.float().to(device), batch_static.float().to(device), batch_y.float().to(device)\n",
    "            batch_x = aggregation(batch_time, batch_static)\n",
    "            outputs = model_tor(batch_x)\n",
    "            loss = criterion.loss(outputs, batch_y)\n",
    "            loss.backward()\n",
    "            train_loss.append(loss.item())\n",
    "            model_optim.step()\n",
    "\n",
    "\n",
    "    list_idx = idx_valid\n",
    "    x_time, x_static, _ = gen_data_AI_batch_2_model(df_new, list_idx, L_all, L_out, L_ground, N_input, N_output, N_static, sliding_step, list_time_series, list_output_time, list_static, real_scaler, static_scaler)\n",
    "    x_time = x_time.reshape(len(list_idx),-1,L_all, N_input+N_output)\n",
    "    x_static = x_static.reshape(len(list_idx),-1, 1, N_static)\n",
    "\n",
    "    y_predict_all = np.zeros((len(x_time), L_ground+L_all, N_output))\n",
    "\n",
    "    for j in range(int(L_ground/L_out)+1):\n",
    "      x_time[:,j,:L_all, N_input:N_input+N_output] = y_predict_all[:,L_out*j:L_all+L_out*j,:]\n",
    "      xt = torch.from_numpy(x_time[:,j,:,:]).float().to('cuda')\n",
    "      xs = torch.from_numpy(x_static[:,j,:,:]).float().to('cuda')\n",
    "      batch_x = aggregation(xt, xs)\n",
    "      y_pred_all = model_tor(batch_x).to('cuda').cpu().detach().numpy()\n",
    "      y_predict_all[:,L_in+L_out*j:L_all+L_out*j,:] = y_pred_all[:,:,:,3]\n",
    "\n",
    "    y_predict_all = target_scaler.inverse_transform(y_predict_all.reshape(-1, N_output))\n",
    "    y_predict_all = y_predict_all.reshape(len(x_time), -1, N_output)\n",
    "\n",
    "\n",
    "    dict_MAE = {k:[] for k in list_output_time}\n",
    "    dict_MAPE = {k:[] for k in list_output_time}\n",
    "    dict_RMSE = {k:[] for k in list_output_time}\n",
    "    dict_R2 = {k:[] for k in list_output_time}\n",
    "\n",
    "    for i_s in range(len(list_output_time)):\n",
    "      for i in range(len(list_idx)):\n",
    "        calMAE = MAE(df_new[list_output_time[i_s]][list_idx[i]], y_predict_all[i, L_all:L_all+L_ground,i_s])\n",
    "        dict_MAE[list_output_time[i_s]].append(calMAE)\n",
    "        calR2 = R2(df_new[list_output_time[i_s]][list_idx[i]], y_predict_all[i, L_all:L_all+L_ground,i_s])\n",
    "        dict_R2[list_output_time[i_s]].append(calR2)\n",
    "\n",
    "        calMAPE = MAPE(df_new[list_output_time[i_s]][list_idx[i]], y_predict_all[i, L_all:L_all+L_ground,i_s])\n",
    "        dict_MAPE[list_output_time[i_s]].append(calMAPE)\n",
    "        calRMSE = RMSE(df_new[list_output_time[i_s]][list_idx[i]], y_predict_all[i, L_all:L_all+L_ground,i_s])\n",
    "        dict_RMSE[list_output_time[i_s]].append(calRMSE)\n",
    "\n",
    "\n",
    "\n",
    "    mean_MAE = [np.mean(dict_MAE[k]) for k in dict_MAE]\n",
    "    mean_MAPE = [np.mean(dict_MAPE[k]) for k in dict_MAPE]\n",
    "    mean_RMSE = [np.mean(dict_RMSE[k]) for k in dict_RMSE]\n",
    "    mean_R2 = [np.mean(dict_R2[k]) for k in dict_R2]\n",
    "\n",
    "    return mean_R2[-1], mean_MAE[-1], mean_MAPE[-1], mean_RMSE[-1]\n"
   ]
  },
  {
   "cell_type": "code",
   "execution_count": null,
   "metadata": {
    "colab": {
     "base_uri": "https://localhost:8080/"
    },
    "id": "6T3BSLSPXb1u",
    "outputId": "cb987df2-4d4d-417d-cc38-1416084091f1"
   },
   "outputs": [
    {
     "name": "stdout",
     "output_type": "stream",
     "text": [
      "Collecting optuna\n",
      "  Downloading optuna-4.1.0-py3-none-any.whl.metadata (16 kB)\n",
      "Collecting alembic>=1.5.0 (from optuna)\n",
      "  Downloading alembic-1.14.0-py3-none-any.whl.metadata (7.4 kB)\n",
      "Collecting colorlog (from optuna)\n",
      "  Downloading colorlog-6.9.0-py3-none-any.whl.metadata (10 kB)\n",
      "Requirement already satisfied: numpy in /usr/local/lib/python3.10/dist-packages (from optuna) (1.26.4)\n",
      "Requirement already satisfied: packaging>=20.0 in /usr/local/lib/python3.10/dist-packages (from optuna) (24.2)\n",
      "Requirement already satisfied: sqlalchemy>=1.4.2 in /usr/local/lib/python3.10/dist-packages (from optuna) (2.0.36)\n",
      "Requirement already satisfied: tqdm in /usr/local/lib/python3.10/dist-packages (from optuna) (4.66.6)\n",
      "Requirement already satisfied: PyYAML in /usr/local/lib/python3.10/dist-packages (from optuna) (6.0.2)\n",
      "Collecting Mako (from alembic>=1.5.0->optuna)\n",
      "  Downloading Mako-1.3.6-py3-none-any.whl.metadata (2.9 kB)\n",
      "Requirement already satisfied: typing-extensions>=4 in /usr/local/lib/python3.10/dist-packages (from alembic>=1.5.0->optuna) (4.12.2)\n",
      "Requirement already satisfied: greenlet!=0.4.17 in /usr/local/lib/python3.10/dist-packages (from sqlalchemy>=1.4.2->optuna) (3.1.1)\n",
      "Requirement already satisfied: MarkupSafe>=0.9.2 in /usr/local/lib/python3.10/dist-packages (from Mako->alembic>=1.5.0->optuna) (3.0.2)\n",
      "Downloading optuna-4.1.0-py3-none-any.whl (364 kB)\n",
      "\u001b[2K   \u001b[90m━━━━━━━━━━━━━━━━━━━━━━━━━━━━━━━━━━━━━━━━\u001b[0m \u001b[32m364.4/364.4 kB\u001b[0m \u001b[31m26.6 MB/s\u001b[0m eta \u001b[36m0:00:00\u001b[0m\n",
      "\u001b[?25hDownloading alembic-1.14.0-py3-none-any.whl (233 kB)\n",
      "\u001b[2K   \u001b[90m━━━━━━━━━━━━━━━━━━━━━━━━━━━━━━━━━━━━━━━━\u001b[0m \u001b[32m233.5/233.5 kB\u001b[0m \u001b[31m21.1 MB/s\u001b[0m eta \u001b[36m0:00:00\u001b[0m\n",
      "\u001b[?25hDownloading colorlog-6.9.0-py3-none-any.whl (11 kB)\n",
      "Downloading Mako-1.3.6-py3-none-any.whl (78 kB)\n",
      "\u001b[2K   \u001b[90m━━━━━━━━━━━━━━━━━━━━━━━━━━━━━━━━━━━━━━━━\u001b[0m \u001b[32m78.6/78.6 kB\u001b[0m \u001b[31m7.1 MB/s\u001b[0m eta \u001b[36m0:00:00\u001b[0m\n",
      "\u001b[?25hInstalling collected packages: Mako, colorlog, alembic, optuna\n",
      "Successfully installed Mako-1.3.6 alembic-1.14.0 colorlog-6.9.0 optuna-4.1.0\n"
     ]
    }
   ],
   "source": [
    "!pip install optuna"
   ]
  },
  {
   "cell_type": "code",
   "execution_count": null,
   "metadata": {
    "id": "qVN6vRY0Xb4Y"
   },
   "outputs": [],
   "source": [
    "import optuna"
   ]
  },
  {
   "cell_type": "code",
   "execution_count": null,
   "metadata": {
    "id": "CW_A_CNQXcAr"
   },
   "outputs": [],
   "source": [
    "def one_function(trial):\n",
    "    N_embed = trial.suggest_categorical(\"d_model\", [32, 64, 128, 256, 512])\n",
    "    e_layers= trial.suggest_int(\"e_layers\", 2,5)\n",
    "    L_in   = trial.suggest_categorical(\"L_in\", [50, 100, 150, 250, 500])\n",
    "    L_out   = trial.suggest_categorical(\"L_out\", [100, 300, 500, 750, 1000])\n",
    "    dropout   = trial.suggest_categorical(\"dropout\", [0.1, 0.2, 0.3])\n",
    "    L_all = L_in + L_out\n",
    "    sliding_step = L_out\n",
    "\n",
    "    with open(f'EQall.p','rb') as f:\n",
    "      EQall = pickle.load(f)\n",
    "\n",
    "    with open(f'new_p_data_allEQ_{ex_name}.p', 'rb') as f:\n",
    "      df_new = pickle.load(f)\n",
    "\n",
    "    for i in range(len(df_new)):\n",
    "      L = len(df_new['disp_ground'][i])\n",
    "      if L >3000:\n",
    "        df_new['disp_ground'][i] = df_new['disp_ground'][i][:3000]\n",
    "      else:\n",
    "        df_new['disp_ground'][i] = list(df_new['disp_ground'][i]) + [0]*(3000-L)\n",
    "\n",
    "    list_output_time = []\n",
    "    list_static = []\n",
    "\n",
    "    for k in list(df_new):\n",
    "      if (str(k)[:4] == 'disp') & (str(k)[-1] != 'd'):\n",
    "        list_output_time.append(k)\n",
    "\n",
    "      if str(k)[:4] != 'disp':\n",
    "        list_static.append(k)\n",
    "\n",
    "    df_new['EQid'] = list_EQid\n",
    "    list_len = np.array([len(df_new['disp_2'][ip]) for ip in range(len(df_new))])\n",
    "    list_idx = np.where(list_len!=3000)[0]\n",
    "    df_new = df_new.drop(index=list_idx)\n",
    "    df_new = df_new.reset_index()\n",
    "\n",
    "    print(ex_name, len(df_new))\n",
    "\n",
    "    L_signal_input = len(df_new['disp_ground'][0])\n",
    "    L_ground = L_signal_input\n",
    "\n",
    "    Ndim_encoding = 2\n",
    "    P_encoding = getPositionEncoding(seq_len=L_signal_input, d=Ndim_encoding, n=10000)\n",
    "    for d in range(Ndim_encoding):\n",
    "      df_new[f'encode_{d}'] = [P_encoding[:,d]]*len(df_new)\n",
    "\n",
    "    list_input_time = ['disp_ground']+[f'encode_{d}' for d in range(Ndim_encoding)]\n",
    "    list_time_series = list_input_time + list_output_time\n",
    "    L_in = L_all-L_out\n",
    "    N_input= len(list_input_time)\n",
    "    N_output= len(list_output_time)\n",
    "    N_static = len(list_static)\n",
    "    N_all = N_input+N_output+N_static\n",
    "    N_time_series = len(list_input_time)+len(list_output_time)+1\n",
    "\n",
    "    static_scaler = sklearn.preprocessing.StandardScaler().fit(df_new[list_static].values)\n",
    "    target = np.array([df_new[i][0] for i in list_output_time]).T\n",
    "    target_scaler = sklearn.preprocessing.StandardScaler().fit(target)\n",
    "    real = np.array([df_new[i][0] for i in list_time_series]).T\n",
    "    real_scaler = sklearn.preprocessing.StandardScaler().fit(real)\n",
    "\n",
    "\n",
    "    train_time, train_static, train_label = gen_data_AI_batch_2_model(df_new, idx_train, L_all, L_out, L_ground, N_input, N_output, N_static, sliding_step, list_time_series, list_output_time, list_static, real_scaler, static_scaler)\n",
    "    val_time, val_static, val_label = gen_data_AI_batch_2_model(df_new, idx_valid, L_all, L_out, L_ground, N_input, N_output, N_static, sliding_step, list_time_series, list_output_time, list_static, real_scaler, static_scaler)\n",
    "    _, train_loader = data_provider2(train_time, train_static, train_label, batch_size=64)\n",
    "    _, valid_loader = data_provider2(val_time, val_static, val_label, batch_size=64)\n",
    "\n",
    "\n",
    "    args = model_parameters()\n",
    "    args.d_model = d_model\n",
    "    args.e_layers = e_layers\n",
    "    args.dropout = dropout\n",
    "\n",
    "    model_tor = TSMixer_dis(args, L_all, L_out, N_input, N_output)\n",
    "\n",
    "    N_epoch = 200\n",
    "    device = torch.device(\"cuda\" if torch.cuda.is_available() else \"cpu\")\n",
    "    aggregation = Data_aggregation(L_all, N_static, dropout)\n",
    "    aggregation = aggregation.float().to(device)\n",
    "    model_tor = model_tor.float().to(device)\n",
    "    model_optim = torch.optim.Adam(list(model_tor.parameters())+list(aggregation.parameters()), lr=0.001)\n",
    "    criterion = MAE_2\n",
    "\n",
    "    for epoch in range(N_epoch):\n",
    "        train_loss = []\n",
    "        for batch_time, batch_static, batch_y in train_loader:\n",
    "            model_optim.zero_grad()\n",
    "            batch_time, batch_static, batch_y = batch_time.float().to(device), batch_static.float().to(device), batch_y.float().to(device)\n",
    "            batch_x = aggregation(batch_time, batch_static)\n",
    "            outputs = model_tor(batch_x)\n",
    "            loss = criterion.loss(outputs, batch_y)\n",
    "            loss.backward()\n",
    "            train_loss.append(loss.item())\n",
    "            model_optim.step()\n",
    "\n",
    "\n",
    "    list_idx = idx_valid\n",
    "    x_time, x_static, _ = gen_data_AI_batch_2_model(df_new, list_idx, L_all, L_out, L_ground, N_input, N_output, N_static, sliding_step, list_time_series, list_output_time, list_static, real_scaler, static_scaler)\n",
    "    x_time = x_time.reshape(len(list_idx),-1,L_all, N_input+N_output)\n",
    "    x_static = x_static.reshape(len(list_idx),-1, 1, N_static)\n",
    "\n",
    "    y_predict_all = np.zeros((len(x_time), L_ground+L_all, N_output))\n",
    "\n",
    "    for j in range(int(L_ground/L_out)+1):\n",
    "      x_time[:,j,:L_all, N_input:N_input+N_output] = y_predict_all[:,L_out*j:L_all+L_out*j,:]\n",
    "      xt = torch.from_numpy(x_time[:,j,:,:]).float().to('cuda')\n",
    "      xs = torch.from_numpy(x_static[:,j,:,:]).float().to('cuda')\n",
    "      batch_x = aggregation(xt, xs)\n",
    "      y_pred_all = model_tor(batch_x).to('cuda').cpu().detach().numpy()\n",
    "      y_predict_all[:,L_in+L_out*j:L_all+L_out*j,:] = y_pred_all[:,:,:,3]\n",
    "\n",
    "    y_predict_all = target_scaler.inverse_transform(y_predict_all.reshape(-1, N_output))\n",
    "    y_predict_all = y_predict_all.reshape(len(x_time), -1, N_output)\n",
    "\n",
    "\n",
    "    dict_MAE = {k:[] for k in list_output_time}\n",
    "    dict_R2 = {k:[] for k in list_output_time}\n",
    "\n",
    "    for i_s in range(len(list_output_time)):\n",
    "      for i in range(len(list_idx)):\n",
    "        calMAE = MAE(df_new[list_output_time[i_s]][list_idx[i]], y_predict_all[i, L_all:L_all+L_ground,i_s])\n",
    "        dict_MAE[list_output_time[i_s]].append(calMAE)\n",
    "        calR2 = R2(df_new[list_output_time[i_s]][list_idx[i]], y_predict_all[i, L_all:L_all+L_ground,i_s])\n",
    "        dict_R2[list_output_time[i_s]].append(calR2)\n",
    "\n",
    "    mean_MAE = [np.mean(dict_MAE[k]) for k in dict_MAE]\n",
    "    mean_R2 = [np.mean(dict_R2[k]) for k in dict_R2]\n",
    "\n",
    "    return mean_MAE[-1]\n"
   ]
  },
  {
   "cell_type": "code",
   "execution_count": null,
   "metadata": {
    "id": "BpjUGHu5shN_"
   },
   "outputs": [],
   "source": [
    "list_ex = ['ex1', 'ex2', 'ex3', 'ex4', 'ex5',\n",
    "           '3Dex1', '3Dex2', '3Dex3', '3Dex4', '3Dex5']\n",
    "dict_result = {}\n",
    "for ex_name in list_ex:\n",
    "  idx_train = np.random.choice(240, size=200, replace=False)\n",
    "  idx_valid = [i for i in range(240) if i not in idx_train]\n",
    "  study = optuna.create_study(direction='minimize')\n",
    "  study.optimize(one_function, n_trials=200)\n",
    "  dict_result[ex_name] = {\"Best trial\": study.best_trial.number,\n",
    "                          \"Best accuracy\": study.best_trial.value,\n",
    "                          \"Best hyperparameters\": study.best_params}\n",
    "\n"
   ]
  },
  {
   "cell_type": "code",
   "execution_count": null,
   "metadata": {
    "colab": {
     "base_uri": "https://localhost:8080/"
    },
    "id": "LSltvDtv_Jm6",
    "outputId": "d27f16cb-e079-4624-c4cd-1fb1e27444c8"
   },
   "outputs": [
    {
     "name": "stderr",
     "output_type": "stream",
     "text": [
      "[I 2024-11-15 09:20:14,284] A new study created in memory with name: no-name-55de0349-e77a-4cc2-9f42-871be14ccb2c\n"
     ]
    },
    {
     "name": "stdout",
     "output_type": "stream",
     "text": [
      "3Dex4 250\n"
     ]
    },
    {
     "name": "stderr",
     "output_type": "stream",
     "text": [
      "[I 2024-11-15 09:21:55,444] Trial 0 finished with value: 0.004574549299411824 and parameters: {'d_model': 64, 'e_layers': 5, 'L_in': 250, 'L_out': 1000, 'dropout': 0.3}. Best is trial 0 with value: 0.004574549299411824.\n"
     ]
    },
    {
     "name": "stdout",
     "output_type": "stream",
     "text": [
      "3Dex4 250\n"
     ]
    },
    {
     "name": "stderr",
     "output_type": "stream",
     "text": [
      "[I 2024-11-15 09:22:56,975] Trial 1 finished with value: 0.004092870296847945 and parameters: {'d_model': 64, 'e_layers': 3, 'L_in': 50, 'L_out': 500, 'dropout': 0.3}. Best is trial 1 with value: 0.004092870296847945.\n"
     ]
    },
    {
     "name": "stdout",
     "output_type": "stream",
     "text": [
      "3Dex4 250\n"
     ]
    },
    {
     "name": "stderr",
     "output_type": "stream",
     "text": [
      "[I 2024-11-15 09:24:16,316] Trial 2 finished with value: 0.004362924098492328 and parameters: {'d_model': 128, 'e_layers': 5, 'L_in': 50, 'L_out': 1000, 'dropout': 0.2}. Best is trial 1 with value: 0.004092870296847945.\n"
     ]
    },
    {
     "name": "stdout",
     "output_type": "stream",
     "text": [
      "3Dex4 250\n"
     ]
    },
    {
     "name": "stderr",
     "output_type": "stream",
     "text": [
      "[I 2024-11-15 09:25:22,838] Trial 3 finished with value: 0.00441283295924042 and parameters: {'d_model': 128, 'e_layers': 3, 'L_in': 50, 'L_out': 500, 'dropout': 0.3}. Best is trial 1 with value: 0.004092870296847945.\n"
     ]
    },
    {
     "name": "stdout",
     "output_type": "stream",
     "text": [
      "3Dex4 250\n"
     ]
    },
    {
     "name": "stderr",
     "output_type": "stream",
     "text": [
      "[I 2024-11-15 09:28:12,437] Trial 4 finished with value: 0.003444994114060234 and parameters: {'d_model': 512, 'e_layers': 5, 'L_in': 150, 'L_out': 750, 'dropout': 0.2}. Best is trial 4 with value: 0.003444994114060234.\n"
     ]
    },
    {
     "name": "stdout",
     "output_type": "stream",
     "text": [
      "3Dex4 250\n"
     ]
    },
    {
     "name": "stderr",
     "output_type": "stream",
     "text": [
      "[I 2024-11-15 09:29:26,386] Trial 5 finished with value: 0.003476300058568603 and parameters: {'d_model': 128, 'e_layers': 4, 'L_in': 150, 'L_out': 1000, 'dropout': 0.3}. Best is trial 4 with value: 0.003444994114060234.\n"
     ]
    },
    {
     "name": "stdout",
     "output_type": "stream",
     "text": [
      "3Dex4 250\n"
     ]
    },
    {
     "name": "stderr",
     "output_type": "stream",
     "text": [
      "[I 2024-11-15 09:31:09,210] Trial 6 finished with value: 0.004587490111801205 and parameters: {'d_model': 64, 'e_layers': 5, 'L_in': 150, 'L_out': 300, 'dropout': 0.3}. Best is trial 4 with value: 0.003444994114060234.\n"
     ]
    },
    {
     "name": "stdout",
     "output_type": "stream",
     "text": [
      "3Dex4 250\n"
     ]
    },
    {
     "name": "stderr",
     "output_type": "stream",
     "text": [
      "[I 2024-11-15 09:34:08,268] Trial 7 finished with value: 0.00439844113799674 and parameters: {'d_model': 512, 'e_layers': 5, 'L_in': 50, 'L_out': 300, 'dropout': 0.1}. Best is trial 4 with value: 0.003444994114060234.\n"
     ]
    },
    {
     "name": "stdout",
     "output_type": "stream",
     "text": [
      "3Dex4 250\n"
     ]
    },
    {
     "name": "stderr",
     "output_type": "stream",
     "text": [
      "[I 2024-11-15 09:35:04,968] Trial 8 finished with value: 0.003841014159709823 and parameters: {'d_model': 128, 'e_layers': 2, 'L_in': 150, 'L_out': 750, 'dropout': 0.2}. Best is trial 4 with value: 0.003444994114060234.\n"
     ]
    },
    {
     "name": "stdout",
     "output_type": "stream",
     "text": [
      "3Dex4 250\n"
     ]
    },
    {
     "name": "stderr",
     "output_type": "stream",
     "text": [
      "[I 2024-11-15 09:37:00,303] Trial 9 finished with value: 0.005567019037116793 and parameters: {'d_model': 512, 'e_layers': 3, 'L_in': 100, 'L_out': 500, 'dropout': 0.3}. Best is trial 4 with value: 0.003444994114060234.\n"
     ]
    },
    {
     "name": "stdout",
     "output_type": "stream",
     "text": [
      "3Dex4 250\n"
     ]
    },
    {
     "name": "stderr",
     "output_type": "stream",
     "text": [
      "[I 2024-11-15 09:41:25,533] Trial 10 finished with value: 0.005628454637397843 and parameters: {'d_model': 32, 'e_layers': 4, 'L_in': 500, 'L_out': 100, 'dropout': 0.2}. Best is trial 4 with value: 0.003444994114060234.\n"
     ]
    },
    {
     "name": "stdout",
     "output_type": "stream",
     "text": [
      "3Dex4 250\n"
     ]
    },
    {
     "name": "stderr",
     "output_type": "stream",
     "text": [
      "[I 2024-11-15 09:43:02,668] Trial 11 finished with value: 0.002811237970907913 and parameters: {'d_model': 256, 'e_layers': 4, 'L_in': 150, 'L_out': 750, 'dropout': 0.1}. Best is trial 11 with value: 0.002811237970907913.\n"
     ]
    },
    {
     "name": "stdout",
     "output_type": "stream",
     "text": [
      "3Dex4 250\n"
     ]
    },
    {
     "name": "stderr",
     "output_type": "stream",
     "text": [
      "[I 2024-11-15 09:44:39,928] Trial 12 finished with value: 0.00308944489913013 and parameters: {'d_model': 256, 'e_layers': 4, 'L_in': 150, 'L_out': 750, 'dropout': 0.1}. Best is trial 11 with value: 0.002811237970907913.\n"
     ]
    },
    {
     "name": "stdout",
     "output_type": "stream",
     "text": [
      "3Dex4 250\n"
     ]
    },
    {
     "name": "stderr",
     "output_type": "stream",
     "text": [
      "[I 2024-11-15 09:46:18,989] Trial 13 finished with value: 0.005872287964466433 and parameters: {'d_model': 256, 'e_layers': 4, 'L_in': 150, 'L_out': 750, 'dropout': 0.1}. Best is trial 11 with value: 0.002811237970907913.\n"
     ]
    },
    {
     "name": "stdout",
     "output_type": "stream",
     "text": [
      "3Dex4 250\n"
     ]
    },
    {
     "name": "stderr",
     "output_type": "stream",
     "text": [
      "[I 2024-11-15 09:47:52,279] Trial 14 finished with value: 0.0032374730180724683 and parameters: {'d_model': 256, 'e_layers': 4, 'L_in': 100, 'L_out': 750, 'dropout': 0.1}. Best is trial 11 with value: 0.002811237970907913.\n"
     ]
    },
    {
     "name": "stdout",
     "output_type": "stream",
     "text": [
      "3Dex4 250\n"
     ]
    },
    {
     "name": "stderr",
     "output_type": "stream",
     "text": [
      "[I 2024-11-15 09:49:14,298] Trial 15 finished with value: 0.002781132286556548 and parameters: {'d_model': 256, 'e_layers': 2, 'L_in': 500, 'L_out': 750, 'dropout': 0.1}. Best is trial 15 with value: 0.002781132286556548.\n"
     ]
    },
    {
     "name": "stdout",
     "output_type": "stream",
     "text": [
      "3Dex4 250\n"
     ]
    },
    {
     "name": "stderr",
     "output_type": "stream",
     "text": [
      "[I 2024-11-15 09:53:50,310] Trial 16 finished with value: 0.005604159524938388 and parameters: {'d_model': 256, 'e_layers': 2, 'L_in': 500, 'L_out': 100, 'dropout': 0.1}. Best is trial 15 with value: 0.002781132286556548.\n"
     ]
    },
    {
     "name": "stdout",
     "output_type": "stream",
     "text": [
      "3Dex4 250\n"
     ]
    },
    {
     "name": "stderr",
     "output_type": "stream",
     "text": [
      "[I 2024-11-15 09:55:11,940] Trial 17 finished with value: 0.003981341310563218 and parameters: {'d_model': 256, 'e_layers': 2, 'L_in': 500, 'L_out': 750, 'dropout': 0.1}. Best is trial 15 with value: 0.002781132286556548.\n"
     ]
    },
    {
     "name": "stdout",
     "output_type": "stream",
     "text": [
      "3Dex4 250\n"
     ]
    },
    {
     "name": "stderr",
     "output_type": "stream",
     "text": [
      "[I 2024-11-15 09:56:05,923] Trial 18 finished with value: 0.003700495171267136 and parameters: {'d_model': 32, 'e_layers': 3, 'L_in': 250, 'L_out': 750, 'dropout': 0.1}. Best is trial 15 with value: 0.002781132286556548.\n"
     ]
    },
    {
     "name": "stdout",
     "output_type": "stream",
     "text": [
      "3Dex4 250\n"
     ]
    },
    {
     "name": "stderr",
     "output_type": "stream",
     "text": [
      "[I 2024-11-15 09:57:27,913] Trial 19 finished with value: 0.0035615259792627805 and parameters: {'d_model': 256, 'e_layers': 2, 'L_in': 500, 'L_out': 750, 'dropout': 0.1}. Best is trial 15 with value: 0.002781132286556548.\n"
     ]
    },
    {
     "name": "stdout",
     "output_type": "stream",
     "text": [
      "3Dex4 250\n"
     ]
    },
    {
     "name": "stderr",
     "output_type": "stream",
     "text": [
      "[I 2024-11-15 10:03:02,583] Trial 20 finished with value: 0.004425395346884696 and parameters: {'d_model': 256, 'e_layers': 3, 'L_in': 500, 'L_out': 100, 'dropout': 0.1}. Best is trial 15 with value: 0.002781132286556548.\n"
     ]
    },
    {
     "name": "stdout",
     "output_type": "stream",
     "text": [
      "3Dex4 250\n"
     ]
    },
    {
     "name": "stderr",
     "output_type": "stream",
     "text": [
      "[I 2024-11-15 10:04:39,675] Trial 21 finished with value: 0.003951521604215712 and parameters: {'d_model': 256, 'e_layers': 4, 'L_in': 150, 'L_out': 750, 'dropout': 0.1}. Best is trial 15 with value: 0.002781132286556548.\n"
     ]
    },
    {
     "name": "stdout",
     "output_type": "stream",
     "text": [
      "3Dex4 250\n"
     ]
    },
    {
     "name": "stderr",
     "output_type": "stream",
     "text": [
      "[I 2024-11-15 10:06:17,023] Trial 22 finished with value: 0.003213946080760642 and parameters: {'d_model': 256, 'e_layers': 4, 'L_in': 150, 'L_out': 750, 'dropout': 0.1}. Best is trial 15 with value: 0.002781132286556548.\n"
     ]
    },
    {
     "name": "stdout",
     "output_type": "stream",
     "text": [
      "3Dex4 250\n"
     ]
    },
    {
     "name": "stderr",
     "output_type": "stream",
     "text": [
      "[I 2024-11-15 10:07:54,281] Trial 23 finished with value: 0.0032457051773164053 and parameters: {'d_model': 256, 'e_layers': 4, 'L_in': 150, 'L_out': 750, 'dropout': 0.1}. Best is trial 15 with value: 0.002781132286556548.\n"
     ]
    },
    {
     "name": "stdout",
     "output_type": "stream",
     "text": [
      "3Dex4 250\n"
     ]
    },
    {
     "name": "stderr",
     "output_type": "stream",
     "text": [
      "[I 2024-11-15 10:09:13,391] Trial 24 finished with value: 0.0037606524278479803 and parameters: {'d_model': 256, 'e_layers': 3, 'L_in': 100, 'L_out': 750, 'dropout': 0.1}. Best is trial 15 with value: 0.002781132286556548.\n"
     ]
    },
    {
     "name": "stdout",
     "output_type": "stream",
     "text": [
      "3Dex4 250\n"
     ]
    },
    {
     "name": "stderr",
     "output_type": "stream",
     "text": [
      "[I 2024-11-15 10:11:35,298] Trial 25 finished with value: 0.003636114760101768 and parameters: {'d_model': 256, 'e_layers': 4, 'L_in': 250, 'L_out': 300, 'dropout': 0.1}. Best is trial 15 with value: 0.002781132286556548.\n"
     ]
    },
    {
     "name": "stdout",
     "output_type": "stream",
     "text": [
      "3Dex4 250\n"
     ]
    },
    {
     "name": "stderr",
     "output_type": "stream",
     "text": [
      "[I 2024-11-15 10:12:34,666] Trial 26 finished with value: 0.0037113322493503285 and parameters: {'d_model': 32, 'e_layers': 3, 'L_in': 500, 'L_out': 750, 'dropout': 0.1}. Best is trial 15 with value: 0.002781132286556548.\n"
     ]
    },
    {
     "name": "stdout",
     "output_type": "stream",
     "text": [
      "3Dex4 250\n"
     ]
    },
    {
     "name": "stderr",
     "output_type": "stream",
     "text": [
      "[I 2024-11-15 10:14:12,639] Trial 27 finished with value: 0.003085698886106118 and parameters: {'d_model': 256, 'e_layers': 4, 'L_in': 150, 'L_out': 750, 'dropout': 0.1}. Best is trial 15 with value: 0.002781132286556548.\n"
     ]
    },
    {
     "name": "stdout",
     "output_type": "stream",
     "text": [
      "3Dex4 250\n"
     ]
    },
    {
     "name": "stderr",
     "output_type": "stream",
     "text": [
      "[I 2024-11-15 10:15:22,447] Trial 28 finished with value: 0.0033970953749240937 and parameters: {'d_model': 256, 'e_layers': 2, 'L_in': 150, 'L_out': 750, 'dropout': 0.1}. Best is trial 15 with value: 0.002781132286556548.\n"
     ]
    },
    {
     "name": "stdout",
     "output_type": "stream",
     "text": [
      "3Dex4 250\n"
     ]
    },
    {
     "name": "stderr",
     "output_type": "stream",
     "text": [
      "[I 2024-11-15 10:16:35,450] Trial 29 finished with value: 0.003442982990329037 and parameters: {'d_model': 64, 'e_layers': 5, 'L_in': 250, 'L_out': 1000, 'dropout': 0.2}. Best is trial 15 with value: 0.002781132286556548.\n",
      "[I 2024-11-15 10:16:35,453] A new study created in memory with name: no-name-accbdd5f-3f1d-43a1-a007-9b8430e20af4\n"
     ]
    },
    {
     "name": "stdout",
     "output_type": "stream",
     "text": [
      "3Dex6 255\n"
     ]
    },
    {
     "name": "stderr",
     "output_type": "stream",
     "text": [
      "[I 2024-11-15 10:18:11,297] Trial 0 finished with value: 0.00046497059385297525 and parameters: {'d_model': 128, 'e_layers': 3, 'L_in': 250, 'L_out': 300, 'dropout': 0.1}. Best is trial 0 with value: 0.00046497059385297525.\n"
     ]
    },
    {
     "name": "stdout",
     "output_type": "stream",
     "text": [
      "3Dex6 255\n"
     ]
    },
    {
     "name": "stderr",
     "output_type": "stream",
     "text": [
      "[I 2024-11-15 10:19:18,515] Trial 1 finished with value: 0.0005536006356758052 and parameters: {'d_model': 64, 'e_layers': 5, 'L_in': 100, 'L_out': 1000, 'dropout': 0.3}. Best is trial 0 with value: 0.00046497059385297525.\n"
     ]
    },
    {
     "name": "stdout",
     "output_type": "stream",
     "text": [
      "3Dex6 255\n"
     ]
    },
    {
     "name": "stderr",
     "output_type": "stream",
     "text": [
      "[I 2024-11-15 10:20:32,094] Trial 2 finished with value: 0.0004634432714300353 and parameters: {'d_model': 128, 'e_layers': 3, 'L_in': 500, 'L_out': 1000, 'dropout': 0.1}. Best is trial 2 with value: 0.0004634432714300353.\n"
     ]
    },
    {
     "name": "stdout",
     "output_type": "stream",
     "text": [
      "3Dex6 255\n"
     ]
    },
    {
     "name": "stderr",
     "output_type": "stream",
     "text": [
      "[I 2024-11-15 10:21:20,004] Trial 3 finished with value: 0.0005911068831903675 and parameters: {'d_model': 32, 'e_layers': 2, 'L_in': 50, 'L_out': 750, 'dropout': 0.1}. Best is trial 2 with value: 0.0004634432714300353.\n"
     ]
    },
    {
     "name": "stdout",
     "output_type": "stream",
     "text": [
      "3Dex6 255\n"
     ]
    },
    {
     "name": "stderr",
     "output_type": "stream",
     "text": [
      "[I 2024-11-15 10:22:59,661] Trial 4 finished with value: 0.00047721934587837734 and parameters: {'d_model': 256, 'e_layers': 3, 'L_in': 50, 'L_out': 300, 'dropout': 0.1}. Best is trial 2 with value: 0.0004634432714300353.\n"
     ]
    },
    {
     "name": "stdout",
     "output_type": "stream",
     "text": [
      "3Dex6 255\n"
     ]
    },
    {
     "name": "stderr",
     "output_type": "stream",
     "text": [
      "[I 2024-11-15 10:25:35,532] Trial 5 finished with value: 0.0004862827048345383 and parameters: {'d_model': 256, 'e_layers': 5, 'L_in': 500, 'L_out': 500, 'dropout': 0.2}. Best is trial 2 with value: 0.0004634432714300353.\n"
     ]
    },
    {
     "name": "stdout",
     "output_type": "stream",
     "text": [
      "3Dex6 255\n"
     ]
    },
    {
     "name": "stderr",
     "output_type": "stream",
     "text": [
      "[I 2024-11-15 10:26:57,028] Trial 6 finished with value: 0.000598551186972131 and parameters: {'d_model': 256, 'e_layers': 3, 'L_in': 50, 'L_out': 1000, 'dropout': 0.3}. Best is trial 2 with value: 0.0004634432714300353.\n"
     ]
    },
    {
     "name": "stdout",
     "output_type": "stream",
     "text": [
      "3Dex6 255\n"
     ]
    },
    {
     "name": "stderr",
     "output_type": "stream",
     "text": [
      "[I 2024-11-15 10:29:46,617] Trial 7 finished with value: 0.0005228987193192971 and parameters: {'d_model': 512, 'e_layers': 5, 'L_in': 150, 'L_out': 750, 'dropout': 0.1}. Best is trial 2 with value: 0.0004634432714300353.\n"
     ]
    },
    {
     "name": "stdout",
     "output_type": "stream",
     "text": [
      "3Dex6 255\n"
     ]
    },
    {
     "name": "stderr",
     "output_type": "stream",
     "text": [
      "[I 2024-11-15 10:30:48,134] Trial 8 finished with value: 0.0005007606417732851 and parameters: {'d_model': 64, 'e_layers': 4, 'L_in': 100, 'L_out': 1000, 'dropout': 0.2}. Best is trial 2 with value: 0.0004634432714300353.\n"
     ]
    },
    {
     "name": "stdout",
     "output_type": "stream",
     "text": [
      "3Dex6 255\n"
     ]
    },
    {
     "name": "stderr",
     "output_type": "stream",
     "text": [
      "[I 2024-11-15 10:32:15,508] Trial 9 finished with value: 0.0005539150855828045 and parameters: {'d_model': 128, 'e_layers': 3, 'L_in': 100, 'L_out': 300, 'dropout': 0.2}. Best is trial 2 with value: 0.0004634432714300353.\n"
     ]
    },
    {
     "name": "stdout",
     "output_type": "stream",
     "text": [
      "3Dex6 255\n"
     ]
    },
    {
     "name": "stderr",
     "output_type": "stream",
     "text": [
      "[I 2024-11-15 10:36:06,681] Trial 10 finished with value: 0.0005140148886940312 and parameters: {'d_model': 128, 'e_layers': 2, 'L_in': 500, 'L_out': 100, 'dropout': 0.1}. Best is trial 2 with value: 0.0004634432714300353.\n"
     ]
    },
    {
     "name": "stdout",
     "output_type": "stream",
     "text": [
      "3Dex6 255\n"
     ]
    },
    {
     "name": "stderr",
     "output_type": "stream",
     "text": [
      "[I 2024-11-15 10:37:54,970] Trial 11 finished with value: 0.0005815356519889391 and parameters: {'d_model': 128, 'e_layers': 4, 'L_in': 250, 'L_out': 300, 'dropout': 0.1}. Best is trial 2 with value: 0.0004634432714300353.\n"
     ]
    },
    {
     "name": "stdout",
     "output_type": "stream",
     "text": [
      "3Dex6 255\n"
     ]
    },
    {
     "name": "stderr",
     "output_type": "stream",
     "text": [
      "[I 2024-11-15 10:41:49,802] Trial 12 finished with value: 0.0007484865688549196 and parameters: {'d_model': 128, 'e_layers': 3, 'L_in': 250, 'L_out': 100, 'dropout': 0.1}. Best is trial 2 with value: 0.0004634432714300353.\n"
     ]
    },
    {
     "name": "stdout",
     "output_type": "stream",
     "text": [
      "3Dex6 255\n"
     ]
    },
    {
     "name": "stderr",
     "output_type": "stream",
     "text": [
      "[I 2024-11-15 10:42:52,699] Trial 13 finished with value: 0.00045228579674235387 and parameters: {'d_model': 128, 'e_layers': 2, 'L_in': 250, 'L_out': 500, 'dropout': 0.1}. Best is trial 13 with value: 0.00045228579674235387.\n"
     ]
    },
    {
     "name": "stdout",
     "output_type": "stream",
     "text": [
      "3Dex6 255\n"
     ]
    },
    {
     "name": "stderr",
     "output_type": "stream",
     "text": [
      "[I 2024-11-15 10:44:57,549] Trial 14 finished with value: 0.0006287653953435689 and parameters: {'d_model': 512, 'e_layers': 2, 'L_in': 500, 'L_out': 500, 'dropout': 0.3}. Best is trial 13 with value: 0.00045228579674235387.\n"
     ]
    },
    {
     "name": "stdout",
     "output_type": "stream",
     "text": [
      "3Dex6 255\n"
     ]
    },
    {
     "name": "stderr",
     "output_type": "stream",
     "text": [
      "[I 2024-11-15 10:45:51,898] Trial 15 finished with value: 0.0006381578881221666 and parameters: {'d_model': 32, 'e_layers': 2, 'L_in': 150, 'L_out': 500, 'dropout': 0.1}. Best is trial 13 with value: 0.00045228579674235387.\n"
     ]
    },
    {
     "name": "stdout",
     "output_type": "stream",
     "text": [
      "3Dex6 255\n"
     ]
    },
    {
     "name": "stderr",
     "output_type": "stream",
     "text": [
      "[I 2024-11-15 10:47:17,208] Trial 16 finished with value: 0.0005266116220366375 and parameters: {'d_model': 128, 'e_layers': 4, 'L_in': 500, 'L_out': 1000, 'dropout': 0.1}. Best is trial 13 with value: 0.00045228579674235387.\n"
     ]
    },
    {
     "name": "stdout",
     "output_type": "stream",
     "text": [
      "3Dex6 255\n"
     ]
    },
    {
     "name": "stderr",
     "output_type": "stream",
     "text": [
      "[I 2024-11-15 10:48:20,178] Trial 17 finished with value: 0.0004656086435706517 and parameters: {'d_model': 128, 'e_layers': 2, 'L_in': 250, 'L_out': 500, 'dropout': 0.1}. Best is trial 13 with value: 0.00045228579674235387.\n"
     ]
    },
    {
     "name": "stdout",
     "output_type": "stream",
     "text": [
      "3Dex6 255\n"
     ]
    },
    {
     "name": "stderr",
     "output_type": "stream",
     "text": [
      "[I 2024-11-15 10:49:18,924] Trial 18 finished with value: 0.0005460097966281982 and parameters: {'d_model': 128, 'e_layers': 2, 'L_in': 250, 'L_out': 1000, 'dropout': 0.2}. Best is trial 13 with value: 0.00045228579674235387.\n"
     ]
    },
    {
     "name": "stdout",
     "output_type": "stream",
     "text": [
      "3Dex6 255\n"
     ]
    },
    {
     "name": "stderr",
     "output_type": "stream",
     "text": [
      "[I 2024-11-15 10:50:31,299] Trial 19 finished with value: 0.0005691536964140467 and parameters: {'d_model': 64, 'e_layers': 3, 'L_in': 500, 'L_out': 500, 'dropout': 0.3}. Best is trial 13 with value: 0.00045228579674235387.\n"
     ]
    },
    {
     "name": "stdout",
     "output_type": "stream",
     "text": [
      "3Dex6 255\n"
     ]
    },
    {
     "name": "stderr",
     "output_type": "stream",
     "text": [
      "[I 2024-11-15 10:51:27,689] Trial 20 finished with value: 0.0005211176210343257 and parameters: {'d_model': 32, 'e_layers': 4, 'L_in': 150, 'L_out': 750, 'dropout': 0.1}. Best is trial 13 with value: 0.00045228579674235387.\n"
     ]
    },
    {
     "name": "stdout",
     "output_type": "stream",
     "text": [
      "3Dex6 255\n"
     ]
    },
    {
     "name": "stderr",
     "output_type": "stream",
     "text": [
      "[I 2024-11-15 10:53:04,037] Trial 21 finished with value: 0.0004269990813765076 and parameters: {'d_model': 128, 'e_layers': 3, 'L_in': 250, 'L_out': 300, 'dropout': 0.1}. Best is trial 21 with value: 0.0004269990813765076.\n"
     ]
    },
    {
     "name": "stdout",
     "output_type": "stream",
     "text": [
      "3Dex6 255\n"
     ]
    },
    {
     "name": "stderr",
     "output_type": "stream",
     "text": [
      "[I 2024-11-15 10:54:39,021] Trial 22 finished with value: 0.00047755327119387056 and parameters: {'d_model': 128, 'e_layers': 3, 'L_in': 250, 'L_out': 300, 'dropout': 0.1}. Best is trial 21 with value: 0.0004269990813765076.\n"
     ]
    },
    {
     "name": "stdout",
     "output_type": "stream",
     "text": [
      "3Dex6 255\n"
     ]
    },
    {
     "name": "stderr",
     "output_type": "stream",
     "text": [
      "[I 2024-11-15 10:58:32,812] Trial 23 finished with value: 0.000517554293117093 and parameters: {'d_model': 128, 'e_layers': 3, 'L_in': 250, 'L_out': 100, 'dropout': 0.1}. Best is trial 21 with value: 0.0004269990813765076.\n"
     ]
    },
    {
     "name": "stdout",
     "output_type": "stream",
     "text": [
      "3Dex6 255\n"
     ]
    },
    {
     "name": "stderr",
     "output_type": "stream",
     "text": [
      "[I 2024-11-15 10:59:56,375] Trial 24 finished with value: 0.0004987561088838139 and parameters: {'d_model': 128, 'e_layers': 2, 'L_in': 250, 'L_out': 300, 'dropout': 0.1}. Best is trial 21 with value: 0.0004269990813765076.\n"
     ]
    },
    {
     "name": "stdout",
     "output_type": "stream",
     "text": [
      "3Dex6 255\n"
     ]
    },
    {
     "name": "stderr",
     "output_type": "stream",
     "text": [
      "[I 2024-11-15 11:02:54,276] Trial 25 finished with value: 0.00043914570146711925 and parameters: {'d_model': 512, 'e_layers': 4, 'L_in': 500, 'L_out': 1000, 'dropout': 0.1}. Best is trial 21 with value: 0.0004269990813765076.\n"
     ]
    },
    {
     "name": "stdout",
     "output_type": "stream",
     "text": [
      "3Dex6 255\n"
     ]
    },
    {
     "name": "stderr",
     "output_type": "stream",
     "text": [
      "[I 2024-11-15 11:05:38,465] Trial 26 finished with value: 0.0004239390351157276 and parameters: {'d_model': 512, 'e_layers': 4, 'L_in': 250, 'L_out': 500, 'dropout': 0.1}. Best is trial 26 with value: 0.0004239390351157276.\n"
     ]
    },
    {
     "name": "stdout",
     "output_type": "stream",
     "text": [
      "3Dex6 255\n"
     ]
    },
    {
     "name": "stderr",
     "output_type": "stream",
     "text": [
      "[I 2024-11-15 11:08:12,945] Trial 27 finished with value: 0.00047251068837790843 and parameters: {'d_model': 512, 'e_layers': 4, 'L_in': 250, 'L_out': 1000, 'dropout': 0.1}. Best is trial 26 with value: 0.0004239390351157276.\n"
     ]
    },
    {
     "name": "stdout",
     "output_type": "stream",
     "text": [
      "3Dex6 255\n"
     ]
    },
    {
     "name": "stderr",
     "output_type": "stream",
     "text": [
      "[I 2024-11-15 11:12:38,130] Trial 28 finished with value: 0.0004437275296960143 and parameters: {'d_model': 512, 'e_layers': 4, 'L_in': 500, 'L_out': 300, 'dropout': 0.2}. Best is trial 26 with value: 0.0004239390351157276.\n"
     ]
    },
    {
     "name": "stdout",
     "output_type": "stream",
     "text": [
      "3Dex6 255\n"
     ]
    },
    {
     "name": "stderr",
     "output_type": "stream",
     "text": [
      "[I 2024-11-15 11:15:21,229] Trial 29 finished with value: 0.0005741736279956439 and parameters: {'d_model': 512, 'e_layers': 4, 'L_in': 250, 'L_out': 500, 'dropout': 0.3}. Best is trial 26 with value: 0.0004239390351157276.\n",
      "[I 2024-11-15 11:15:21,235] A new study created in memory with name: no-name-619de1c3-bfa7-41e1-ad8c-8d854feb32ff\n"
     ]
    },
    {
     "name": "stdout",
     "output_type": "stream",
     "text": [
      "3Dex9 254\n"
     ]
    },
    {
     "name": "stderr",
     "output_type": "stream",
     "text": [
      "[I 2024-11-15 11:16:35,793] Trial 0 finished with value: 0.004571521172927492 and parameters: {'d_model': 64, 'e_layers': 3, 'L_in': 250, 'L_out': 500, 'dropout': 0.3}. Best is trial 0 with value: 0.004571521172927492.\n"
     ]
    },
    {
     "name": "stdout",
     "output_type": "stream",
     "text": [
      "3Dex9 254\n"
     ]
    },
    {
     "name": "stderr",
     "output_type": "stream",
     "text": [
      "[I 2024-11-15 11:17:56,537] Trial 1 finished with value: 0.005268269920669208 and parameters: {'d_model': 128, 'e_layers': 4, 'L_in': 100, 'L_out': 750, 'dropout': 0.3}. Best is trial 0 with value: 0.004571521172927492.\n"
     ]
    },
    {
     "name": "stdout",
     "output_type": "stream",
     "text": [
      "3Dex9 254\n"
     ]
    },
    {
     "name": "stderr",
     "output_type": "stream",
     "text": [
      "[I 2024-11-15 11:20:11,138] Trial 2 finished with value: 0.005040109746681625 and parameters: {'d_model': 512, 'e_layers': 2, 'L_in': 500, 'L_out': 500, 'dropout': 0.2}. Best is trial 0 with value: 0.004571521172927492.\n"
     ]
    },
    {
     "name": "stdout",
     "output_type": "stream",
     "text": [
      "3Dex9 254\n"
     ]
    },
    {
     "name": "stderr",
     "output_type": "stream",
     "text": [
      "[I 2024-11-15 11:23:59,848] Trial 3 finished with value: 0.01024466160701613 and parameters: {'d_model': 128, 'e_layers': 3, 'L_in': 50, 'L_out': 100, 'dropout': 0.1}. Best is trial 0 with value: 0.004571521172927492.\n"
     ]
    },
    {
     "name": "stdout",
     "output_type": "stream",
     "text": [
      "3Dex9 254\n"
     ]
    },
    {
     "name": "stderr",
     "output_type": "stream",
     "text": [
      "[I 2024-11-15 11:27:47,895] Trial 4 finished with value: 0.00754767429282169 and parameters: {'d_model': 32, 'e_layers': 3, 'L_in': 100, 'L_out': 100, 'dropout': 0.1}. Best is trial 0 with value: 0.004571521172927492.\n"
     ]
    },
    {
     "name": "stdout",
     "output_type": "stream",
     "text": [
      "3Dex9 254\n"
     ]
    },
    {
     "name": "stderr",
     "output_type": "stream",
     "text": [
      "[I 2024-11-15 11:29:04,694] Trial 5 finished with value: 0.005768226306360371 and parameters: {'d_model': 256, 'e_layers': 2, 'L_in': 50, 'L_out': 500, 'dropout': 0.2}. Best is trial 0 with value: 0.004571521172927492.\n"
     ]
    },
    {
     "name": "stdout",
     "output_type": "stream",
     "text": [
      "3Dex9 254\n"
     ]
    },
    {
     "name": "stderr",
     "output_type": "stream",
     "text": [
      "[I 2024-11-15 11:30:10,599] Trial 6 finished with value: 0.005266409895781775 and parameters: {'d_model': 32, 'e_layers': 4, 'L_in': 150, 'L_out': 750, 'dropout': 0.1}. Best is trial 0 with value: 0.004571521172927492.\n"
     ]
    },
    {
     "name": "stdout",
     "output_type": "stream",
     "text": [
      "3Dex9 254\n"
     ]
    },
    {
     "name": "stderr",
     "output_type": "stream",
     "text": [
      "[I 2024-11-15 11:34:53,100] Trial 7 finished with value: 0.004751826283587251 and parameters: {'d_model': 256, 'e_layers': 2, 'L_in': 500, 'L_out': 100, 'dropout': 0.1}. Best is trial 0 with value: 0.004571521172927492.\n"
     ]
    },
    {
     "name": "stdout",
     "output_type": "stream",
     "text": [
      "3Dex9 254\n"
     ]
    },
    {
     "name": "stderr",
     "output_type": "stream",
     "text": [
      "[I 2024-11-15 11:36:16,570] Trial 8 finished with value: 0.0049452700566356405 and parameters: {'d_model': 32, 'e_layers': 2, 'L_in': 250, 'L_out': 300, 'dropout': 0.1}. Best is trial 0 with value: 0.004571521172927492.\n"
     ]
    },
    {
     "name": "stdout",
     "output_type": "stream",
     "text": [
      "3Dex9 254\n"
     ]
    },
    {
     "name": "stderr",
     "output_type": "stream",
     "text": [
      "[I 2024-11-15 11:37:56,512] Trial 9 finished with value: 0.005808743402338598 and parameters: {'d_model': 128, 'e_layers': 4, 'L_in': 50, 'L_out': 300, 'dropout': 0.3}. Best is trial 0 with value: 0.004571521172927492.\n"
     ]
    },
    {
     "name": "stdout",
     "output_type": "stream",
     "text": [
      "3Dex9 254\n"
     ]
    },
    {
     "name": "stderr",
     "output_type": "stream",
     "text": [
      "[I 2024-11-15 11:39:19,031] Trial 10 finished with value: 0.006079414804617991 and parameters: {'d_model': 64, 'e_layers': 5, 'L_in': 250, 'L_out': 1000, 'dropout': 0.3}. Best is trial 0 with value: 0.004571521172927492.\n"
     ]
    },
    {
     "name": "stdout",
     "output_type": "stream",
     "text": [
      "3Dex9 254\n"
     ]
    },
    {
     "name": "stderr",
     "output_type": "stream",
     "text": [
      "[I 2024-11-15 11:43:24,842] Trial 11 finished with value: 0.005151782098573371 and parameters: {'d_model': 64, 'e_layers': 3, 'L_in': 500, 'L_out': 100, 'dropout': 0.3}. Best is trial 0 with value: 0.004571521172927492.\n"
     ]
    },
    {
     "name": "stdout",
     "output_type": "stream",
     "text": [
      "3Dex9 254\n"
     ]
    },
    {
     "name": "stderr",
     "output_type": "stream",
     "text": [
      "[I 2024-11-15 11:45:05,186] Trial 12 finished with value: 0.003962739715981857 and parameters: {'d_model': 256, 'e_layers': 2, 'L_in': 500, 'L_out': 500, 'dropout': 0.1}. Best is trial 12 with value: 0.003962739715981857.\n"
     ]
    },
    {
     "name": "stdout",
     "output_type": "stream",
     "text": [
      "3Dex9 254\n"
     ]
    },
    {
     "name": "stderr",
     "output_type": "stream",
     "text": [
      "[I 2024-11-15 11:46:48,357] Trial 13 finished with value: 0.004522039574713425 and parameters: {'d_model': 256, 'e_layers': 3, 'L_in': 250, 'L_out': 500, 'dropout': 0.3}. Best is trial 12 with value: 0.003962739715981857.\n"
     ]
    },
    {
     "name": "stdout",
     "output_type": "stream",
     "text": [
      "3Dex9 254\n"
     ]
    },
    {
     "name": "stderr",
     "output_type": "stream",
     "text": [
      "[I 2024-11-15 11:48:09,395] Trial 14 finished with value: 0.004183782642536038 and parameters: {'d_model': 256, 'e_layers': 2, 'L_in': 150, 'L_out': 500, 'dropout': 0.2}. Best is trial 12 with value: 0.003962739715981857.\n"
     ]
    },
    {
     "name": "stdout",
     "output_type": "stream",
     "text": [
      "3Dex9 254\n"
     ]
    },
    {
     "name": "stderr",
     "output_type": "stream",
     "text": [
      "[I 2024-11-15 11:49:33,113] Trial 15 finished with value: 0.004161019677274354 and parameters: {'d_model': 256, 'e_layers': 2, 'L_in': 150, 'L_out': 500, 'dropout': 0.2}. Best is trial 12 with value: 0.003962739715981857.\n"
     ]
    },
    {
     "name": "stdout",
     "output_type": "stream",
     "text": [
      "3Dex9 254\n"
     ]
    },
    {
     "name": "stderr",
     "output_type": "stream",
     "text": [
      "[I 2024-11-15 11:51:37,397] Trial 16 finished with value: 0.004599126336994502 and parameters: {'d_model': 256, 'e_layers': 5, 'L_in': 150, 'L_out': 1000, 'dropout': 0.2}. Best is trial 12 with value: 0.003962739715981857.\n"
     ]
    },
    {
     "name": "stdout",
     "output_type": "stream",
     "text": [
      "3Dex9 254\n"
     ]
    },
    {
     "name": "stderr",
     "output_type": "stream",
     "text": [
      "[I 2024-11-15 11:53:23,434] Trial 17 finished with value: 0.005033706299097597 and parameters: {'d_model': 512, 'e_layers': 2, 'L_in': 150, 'L_out': 500, 'dropout': 0.2}. Best is trial 12 with value: 0.003962739715981857.\n"
     ]
    },
    {
     "name": "stdout",
     "output_type": "stream",
     "text": [
      "3Dex9 254\n"
     ]
    },
    {
     "name": "stderr",
     "output_type": "stream",
     "text": [
      "[I 2024-11-15 11:55:05,502] Trial 18 finished with value: 0.005260696054684292 and parameters: {'d_model': 256, 'e_layers': 2, 'L_in': 500, 'L_out': 500, 'dropout': 0.2}. Best is trial 12 with value: 0.003962739715981857.\n"
     ]
    },
    {
     "name": "stdout",
     "output_type": "stream",
     "text": [
      "3Dex9 254\n"
     ]
    },
    {
     "name": "stderr",
     "output_type": "stream",
     "text": [
      "[I 2024-11-15 11:56:43,448] Trial 19 finished with value: 0.004738741251973118 and parameters: {'d_model': 256, 'e_layers': 3, 'L_in': 150, 'L_out': 500, 'dropout': 0.1}. Best is trial 12 with value: 0.003962739715981857.\n"
     ]
    },
    {
     "name": "stdout",
     "output_type": "stream",
     "text": [
      "3Dex9 254\n"
     ]
    },
    {
     "name": "stderr",
     "output_type": "stream",
     "text": [
      "[I 2024-11-15 11:58:15,885] Trial 20 finished with value: 0.004854347730524904 and parameters: {'d_model': 256, 'e_layers': 2, 'L_in': 500, 'L_out': 1000, 'dropout': 0.1}. Best is trial 12 with value: 0.003962739715981857.\n"
     ]
    },
    {
     "name": "stdout",
     "output_type": "stream",
     "text": [
      "3Dex9 254\n"
     ]
    },
    {
     "name": "stderr",
     "output_type": "stream",
     "text": [
      "[I 2024-11-15 11:59:37,724] Trial 21 finished with value: 0.004837071320571434 and parameters: {'d_model': 256, 'e_layers': 2, 'L_in': 150, 'L_out': 500, 'dropout': 0.2}. Best is trial 12 with value: 0.003962739715981857.\n"
     ]
    },
    {
     "name": "stdout",
     "output_type": "stream",
     "text": [
      "3Dex9 254\n"
     ]
    },
    {
     "name": "stderr",
     "output_type": "stream",
     "text": [
      "[I 2024-11-15 12:00:59,040] Trial 22 finished with value: 0.0047602335778548265 and parameters: {'d_model': 256, 'e_layers': 2, 'L_in': 150, 'L_out': 500, 'dropout': 0.2}. Best is trial 12 with value: 0.003962739715981857.\n"
     ]
    },
    {
     "name": "stdout",
     "output_type": "stream",
     "text": [
      "3Dex9 254\n"
     ]
    },
    {
     "name": "stderr",
     "output_type": "stream",
     "text": [
      "[I 2024-11-15 12:02:20,569] Trial 23 finished with value: 0.004819149766556026 and parameters: {'d_model': 256, 'e_layers': 2, 'L_in': 150, 'L_out': 500, 'dropout': 0.2}. Best is trial 12 with value: 0.003962739715981857.\n"
     ]
    },
    {
     "name": "stdout",
     "output_type": "stream",
     "text": [
      "3Dex9 254\n"
     ]
    },
    {
     "name": "stderr",
     "output_type": "stream",
     "text": [
      "[I 2024-11-15 12:03:57,634] Trial 24 finished with value: 0.0048847451705830176 and parameters: {'d_model': 256, 'e_layers': 3, 'L_in': 150, 'L_out': 500, 'dropout': 0.2}. Best is trial 12 with value: 0.003962739715981857.\n"
     ]
    },
    {
     "name": "stdout",
     "output_type": "stream",
     "text": [
      "3Dex9 254\n"
     ]
    },
    {
     "name": "stderr",
     "output_type": "stream",
     "text": [
      "[I 2024-11-15 12:05:34,514] Trial 25 finished with value: 0.004617929098908768 and parameters: {'d_model': 512, 'e_layers': 2, 'L_in': 100, 'L_out': 750, 'dropout': 0.2}. Best is trial 12 with value: 0.003962739715981857.\n"
     ]
    },
    {
     "name": "stdout",
     "output_type": "stream",
     "text": [
      "3Dex9 254\n"
     ]
    },
    {
     "name": "stderr",
     "output_type": "stream",
     "text": [
      "[I 2024-11-15 12:07:38,190] Trial 26 finished with value: 0.004574933406946537 and parameters: {'d_model': 256, 'e_layers': 3, 'L_in': 500, 'L_out': 500, 'dropout': 0.2}. Best is trial 12 with value: 0.003962739715981857.\n"
     ]
    },
    {
     "name": "stdout",
     "output_type": "stream",
     "text": [
      "3Dex9 254\n"
     ]
    },
    {
     "name": "stderr",
     "output_type": "stream",
     "text": [
      "[I 2024-11-15 12:09:15,134] Trial 27 finished with value: 0.005037820347664129 and parameters: {'d_model': 256, 'e_layers': 2, 'L_in': 150, 'L_out': 300, 'dropout': 0.1}. Best is trial 12 with value: 0.003962739715981857.\n"
     ]
    },
    {
     "name": "stdout",
     "output_type": "stream",
     "text": [
      "3Dex9 254\n"
     ]
    },
    {
     "name": "stderr",
     "output_type": "stream",
     "text": [
      "[I 2024-11-15 12:11:08,105] Trial 28 finished with value: 0.0041292268786511125 and parameters: {'d_model': 256, 'e_layers': 4, 'L_in': 150, 'L_out': 500, 'dropout': 0.2}. Best is trial 12 with value: 0.003962739715981857.\n"
     ]
    },
    {
     "name": "stdout",
     "output_type": "stream",
     "text": [
      "3Dex9 254\n"
     ]
    },
    {
     "name": "stderr",
     "output_type": "stream",
     "text": [
      "[I 2024-11-15 12:12:37,924] Trial 29 finished with value: 0.004598227297153017 and parameters: {'d_model': 64, 'e_layers': 4, 'L_in': 500, 'L_out': 500, 'dropout': 0.1}. Best is trial 12 with value: 0.003962739715981857.\n"
     ]
    }
   ],
   "source": [
    "dict_result = {}\n",
    "for ex_name in list_ex:\n",
    "  idx_train = np.random.choice(240, size=200, replace=False)\n",
    "  idx_valid = [i for i in range(240) if i not in idx_train]\n",
    "  study = optuna.create_study(direction='minimize')\n",
    "  study.optimize(one_function, n_trials=30)\n",
    "  dict_result[ex_name] = {\"Best trial\": study.best_trial.number, \"Best accuracy\": study.best_trial.value, \"Best hyperparameters\": study.best_params}\n",
    "\n"
   ]
  },
  {
   "cell_type": "code",
   "execution_count": null,
   "metadata": {
    "id": "mvg6_sKZzD78"
   },
   "outputs": [],
   "source": []
  },
  {
   "cell_type": "code",
   "execution_count": null,
   "metadata": {
    "id": "3DoM_TMn_JeQ"
   },
   "outputs": [],
   "source": []
  }
 ],
 "metadata": {
  "accelerator": "GPU",
  "colab": {
   "gpuType": "T4",
   "provenance": []
  },
  "kernelspec": {
   "display_name": "Python 3 (ipykernel)",
   "language": "python",
   "name": "python3"
  },
  "language_info": {
   "codemirror_mode": {
    "name": "ipython",
    "version": 3
   },
   "file_extension": ".py",
   "mimetype": "text/x-python",
   "name": "python",
   "nbconvert_exporter": "python",
   "pygments_lexer": "ipython3",
   "version": "3.12.7"
  }
 },
 "nbformat": 4,
 "nbformat_minor": 4
}
